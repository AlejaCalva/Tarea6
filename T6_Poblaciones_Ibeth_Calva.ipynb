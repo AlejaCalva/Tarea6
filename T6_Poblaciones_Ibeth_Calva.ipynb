{
 "cells": [
  {
   "cell_type": "markdown",
   "id": "9084ea29",
   "metadata": {},
   "source": [
    "# BIOINFORMÁTICA\n",
    "- Nombre: Ibeth Calva\n",
    "- Grupo: 1\n",
    "- Fecha: 18/07/2022"
   ]
  },
  {
   "cell_type": "code",
   "execution_count": 1,
   "id": "1ece6fef",
   "metadata": {},
   "outputs": [],
   "source": [
    "import poblacionmendeliana"
   ]
  },
  {
   "cell_type": "code",
   "execution_count": 2,
   "id": "d5f5cd7b",
   "metadata": {},
   "outputs": [
    {
     "data": {
      "text/plain": [
       "[('a', 'a'),\n",
       " ('A', 'a'),\n",
       " ('A', 'a'),\n",
       " ('a', 'a'),\n",
       " ('a', 'a'),\n",
       " ('A', 'A'),\n",
       " ('a', 'a'),\n",
       " ('a', 'A'),\n",
       " ('A', 'a'),\n",
       " ('A', 'a'),\n",
       " ('A', 'A'),\n",
       " ('A', 'a'),\n",
       " ('a', 'a'),\n",
       " ('a', 'A'),\n",
       " ('a', 'A'),\n",
       " ('A', 'a'),\n",
       " ('A', 'a'),\n",
       " ('A', 'a'),\n",
       " ('a', 'a'),\n",
       " ('A', 'a'),\n",
       " ('A', 'A'),\n",
       " ('a', 'a'),\n",
       " ('A', 'A'),\n",
       " ('a', 'A'),\n",
       " ('a', 'A')]"
      ]
     },
     "execution_count": 2,
     "metadata": {},
     "output_type": "execute_result"
    }
   ],
   "source": [
    "poblacionmendeliana.build_population(25, 0.43)"
   ]
  },
  {
   "cell_type": "code",
   "execution_count": 5,
   "id": "6a55c13e",
   "metadata": {},
   "outputs": [],
   "source": [
    "my_pop = poblacionmendeliana.build_population(500, 0.21)"
   ]
  },
  {
   "cell_type": "code",
   "execution_count": 11,
   "id": "523d287f",
   "metadata": {},
   "outputs": [],
   "source": [
    "import numpy as np\n",
    "np.random.seed(seed=123)\n",
    "my_pop = poblacionmendeliana.build_population(500, 0.21)"
   ]
  },
  {
   "cell_type": "code",
   "execution_count": 12,
   "id": "7dfa267c",
   "metadata": {},
   "outputs": [
    {
     "name": "stdout",
     "output_type": "stream",
     "text": [
      "{'AA': 19, 'aa': 325, 'Aa': 72, 'aA': 84}\n"
     ]
    }
   ],
   "source": [
    "fmy_pop = poblacionmendeliana.frequency_count(my_pop)\n",
    "print(fmy_pop)"
   ]
  },
  {
   "cell_type": "code",
   "execution_count": 14,
   "id": "75d1ba90",
   "metadata": {},
   "outputs": [
    {
     "name": "stdout",
     "output_type": "stream",
     "text": [
      "{'AA': 19, 'aa': 325, 'Aa': 72, 'aA': 84}\n",
      "0.35\n"
     ]
    }
   ],
   "source": [
    "fmy_pop = poblacionmendeliana.frequency_count(my_pop)\n",
    "print(fmy_pop)\n",
    "print((500-fmy_pop[\"aa\"])/500)"
   ]
  },
  {
   "cell_type": "code",
   "execution_count": 17,
   "id": "76fc1784",
   "metadata": {},
   "outputs": [
    {
     "name": "stdout",
     "output_type": "stream",
     "text": [
      "{'AA': 19, 'aa': 325, 'Aa': 72, 'aA': 84}\n",
      "{'AA': 19, 'aa': 324, 'Aa': 80, 'aA': 77}\n",
      "{'AA': 24, 'aa': 316, 'Aa': 86, 'aA': 74}\n"
     ]
    }
   ],
   "source": [
    "print(poblacionmendeliana.frequency_count(my_pop))\n",
    "new_pop = poblacionmendeliana.reproduce_population(my_pop)\n",
    "new_pop2 = poblacionmendeliana.reproduce_population(new_pop)\n",
    "print(poblacionmendeliana.frequency_count(new_pop))\n",
    "print(poblacionmendeliana.frequency_count(new_pop2))"
   ]
  },
  {
   "cell_type": "code",
   "execution_count": 20,
   "id": "c9f8e9a7",
   "metadata": {},
   "outputs": [
    {
     "name": "stdout",
     "output_type": "stream",
     "text": [
      "[('a', 'a'), ('a', 'a'), ('A', 'a'), ('A', 'A'), ('A', 'a'), ('a', 'a'), ('a', 'a'), ('a', 'A'), ('a', 'A'), ('A', 'A')]\n",
      "{'AA': 2, 'aa': 4, 'Aa': 2, 'aA': 2}\n",
      "[('A', 'a'), ('A', 'a'), ('a', 'A'), ('a', 'a'), ('a', 'A'), ('a', 'A'), ('a', 'a'), ('a', 'A'), ('A', 'a'), ('A', 'a')]\n",
      "{'AA': 0, 'aa': 2, 'Aa': 4, 'aA': 4}\n"
     ]
    }
   ],
   "source": [
    "# import poblaciones as pbc\\n\",\n",
    "\n",
    "pop0 = poblacionmendeliana.build_population(10, 0.35)\n",
    "allele_pop0 = poblacionmendeliana.frequency_count(pop0)\n",
    "pop1 = poblacionmendeliana.reproduce_population(pop0)\n",
    "allele_pop1 = poblacionmendeliana.frequency_count(pop1)\n",
    "\n",
    "print(pop0)\n",
    "print(allele_pop0)\n",
    "print(pop1)\n",
    "print(allele_pop1)"
   ]
  },
  {
   "cell_type": "code",
   "execution_count": 21,
   "id": "a3134a8c",
   "metadata": {},
   "outputs": [],
   "source": [
    "def simulate_drift(N, p):\n",
    "    # initialize the population\n",
    "    my_pop = poblacionmendeliana.build_population(N, p)\n",
    "    fixation = False # condiciòn incial de fijacion\n",
    "    num_generations = 0 # población parental\n",
    "    while fixation == False:\n",
    "        # compute genotype counts\n",
    "        genotype_counts = poblacionmendeliana.frequency_count(my_pop)\n",
    "        # if one allele went to fixation, end\n",
    "        if (genotype_counts[\"AA\"] == N or genotype_counts[\"aa\"] == N):\n",
    "            print(\"An allele reached fixation at generation\", num_generations)\n",
    "            print(\"The genotype counts are\")\n",
    "            print(genotype_counts)\n",
    "            fixation == True\n",
    "            break\n",
    "        # if not, reproduce\n",
    "        my_pop = poblacionmendeliana.reproduce_population(my_pop)\n",
    "        num_generations += 1\n",
    "    return num_generations, genotype_counts"
   ]
  },
  {
   "cell_type": "code",
   "execution_count": 22,
   "id": "16fe188e",
   "metadata": {},
   "outputs": [
    {
     "name": "stdout",
     "output_type": "stream",
     "text": [
      "An allele reached fixation at generation 633\n",
      "The genotype counts are\n",
      "{'AA': 0, 'aa': 500, 'Aa': 0, 'aA': 0}\n"
     ]
    },
    {
     "data": {
      "text/plain": [
       "(633, {'AA': 0, 'aa': 500, 'Aa': 0, 'aA': 0})"
      ]
     },
     "execution_count": 22,
     "metadata": {},
     "output_type": "execute_result"
    }
   ],
   "source": [
    "sim1 = simulate_drift(500, 0.5 ) #simulacion de generacion\n",
    "sim1"
   ]
  },
  {
   "cell_type": "code",
   "execution_count": 27,
   "id": "a8f1c4bf",
   "metadata": {},
   "outputs": [
    {
     "name": "stdout",
     "output_type": "stream",
     "text": [
      "[('a', 'A'), ('a', 'A'), ('A', 'a'), ('A', 'a'), ('a', 'A'), ('a', 'a'), ('a', 'a'), ('a', 'A'), ('A', 'a'), ('a', 'a'), ('a', 'A'), ('a', 'a'), ('a', 'a'), ('A', 'A'), ('A', 'a'), ('a', 'a'), ('A', 'A'), ('a', 'a'), ('a', 'a'), ('a', 'A'), ('a', 'a'), ('a', 'a'), ('a', 'A'), ('A', 'A'), ('a', 'a'), ('a', 'a'), ('A', 'A'), ('a', 'A'), ('a', 'A'), ('A', 'A'), ('a', 'a'), ('A', 'A'), ('A', 'a'), ('a', 'a'), ('a', 'a'), ('a', 'a'), ('A', 'a'), ('A', 'A'), ('a', 'A'), ('a', 'a'), ('A', 'A'), ('a', 'a'), ('a', 'a'), ('a', 'A'), ('A', 'A'), ('a', 'A'), ('a', 'A'), ('a', 'a'), ('A', 'A'), ('a', 'a'), ('a', 'a'), ('A', 'a'), ('a', 'A'), ('a', 'A'), ('a', 'a'), ('a', 'a'), ('a', 'a'), ('A', 'A'), ('a', 'a'), ('A', 'a'), ('a', 'A'), ('A', 'a'), ('A', 'a'), ('A', 'a'), ('a', 'a'), ('A', 'a'), ('A', 'a'), ('a', 'A'), ('A', 'A'), ('A', 'A'), ('A', 'A'), ('a', 'A'), ('A', 'A'), ('A', 'A'), ('a', 'A'), ('A', 'A'), ('A', 'A'), ('a', 'a'), ('A', 'a'), ('A', 'A'), ('a', 'a'), ('a', 'a'), ('a', 'a'), ('a', 'a'), ('a', 'A'), ('a', 'A'), ('A', 'A'), ('A', 'A'), ('a', 'A'), ('A', 'a'), ('a', 'A'), ('A', 'a'), ('a', 'a'), ('a', 'A'), ('a', 'A'), ('a', 'a'), ('A', 'A'), ('A', 'A'), ('A', 'a'), ('A', 'A'), ('A', 'A'), ('A', 'a'), ('a', 'a'), ('A', 'a'), ('A', 'A'), ('a', 'A'), ('a', 'A'), ('a', 'a'), ('a', 'A'), ('a', 'a'), ('a', 'A'), ('a', 'A'), ('a', 'A'), ('A', 'a'), ('A', 'A'), ('A', 'A'), ('A', 'A'), ('A', 'A'), ('A', 'a'), ('A', 'A'), ('a', 'A'), ('A', 'a'), ('A', 'A'), ('A', 'a'), ('A', 'A'), ('a', 'a'), ('a', 'a'), ('A', 'a'), ('a', 'A'), ('A', 'A'), ('A', 'a'), ('A', 'a'), ('a', 'A'), ('A', 'a'), ('a', 'a'), ('A', 'a'), ('a', 'a'), ('A', 'A'), ('a', 'a'), ('a', 'a'), ('a', 'a'), ('a', 'A'), ('A', 'A'), ('a', 'A'), ('A', 'a'), ('a', 'a'), ('A', 'a'), ('a', 'a'), ('a', 'A'), ('A', 'A'), ('a', 'a'), ('A', 'a'), ('A', 'A'), ('A', 'A'), ('A', 'a'), ('a', 'a'), ('A', 'a'), ('A', 'A'), ('a', 'A'), ('A', 'a'), ('A', 'A'), ('a', 'A'), ('A', 'a'), ('a', 'A'), ('A', 'A'), ('A', 'a'), ('A', 'A'), ('A', 'a'), ('a', 'A'), ('a', 'A'), ('A', 'A'), ('a', 'A'), ('A', 'a'), ('a', 'A'), ('a', 'a'), ('A', 'a'), ('a', 'a'), ('a', 'A'), ('a', 'a'), ('A', 'a'), ('A', 'A'), ('A', 'A'), ('A', 'A'), ('A', 'A'), ('A', 'A'), ('A', 'a'), ('A', 'A'), ('a', 'A'), ('A', 'A'), ('a', 'a'), ('A', 'a'), ('a', 'a'), ('A', 'A'), ('A', 'A'), ('A', 'a'), ('A', 'a'), ('A', 'a'), ('a', 'A'), ('A', 'A'), ('A', 'a'), ('A', 'a'), ('a', 'A'), ('a', 'a'), ('a', 'A'), ('A', 'A'), ('a', 'A'), ('A', 'A'), ('A', 'A'), ('a', 'a'), ('a', 'a'), ('A', 'a'), ('A', 'a'), ('A', 'a'), ('a', 'A'), ('A', 'A'), ('A', 'A'), ('A', 'a'), ('A', 'a'), ('a', 'a'), ('A', 'A'), ('a', 'a'), ('A', 'A'), ('A', 'a'), ('A', 'A'), ('a', 'A'), ('a', 'a'), ('A', 'a'), ('a', 'A'), ('A', 'a'), ('A', 'a'), ('a', 'A'), ('A', 'a'), ('a', 'A'), ('A', 'A'), ('a', 'A'), ('A', 'A'), ('a', 'A'), ('A', 'a'), ('a', 'A'), ('A', 'A'), ('a', 'A'), ('a', 'A'), ('a', 'A'), ('A', 'A'), ('A', 'a'), ('a', 'a'), ('A', 'A'), ('A', 'A'), ('a', 'a'), ('A', 'a'), ('a', 'A'), ('A', 'a'), ('A', 'A'), ('A', 'A'), ('a', 'a'), ('a', 'a'), ('A', 'A'), ('a', 'A'), ('a', 'A'), ('A', 'a'), ('a', 'A'), ('a', 'a'), ('A', 'a'), ('A', 'a'), ('A', 'a'), ('A', 'A'), ('A', 'A'), ('a', 'A'), ('A', 'a'), ('A', 'A'), ('a', 'A'), ('a', 'a'), ('a', 'A'), ('A', 'a'), ('A', 'a'), ('A', 'A'), ('a', 'A'), ('a', 'a'), ('a', 'a'), ('A', 'a'), ('a', 'A'), ('A', 'a'), ('a', 'A'), ('A', 'a'), ('a', 'A'), ('a', 'a'), ('A', 'A'), ('A', 'A'), ('a', 'a'), ('A', 'a'), ('A', 'A'), ('a', 'a'), ('a', 'A'), ('a', 'A'), ('a', 'a'), ('A', 'a'), ('A', 'A'), ('A', 'A'), ('A', 'a'), ('A', 'a'), ('a', 'a'), ('a', 'a'), ('a', 'A'), ('a', 'A'), ('a', 'a'), ('A', 'a'), ('a', 'a'), ('a', 'a'), ('a', 'A'), ('A', 'A'), ('a', 'a'), ('A', 'a'), ('a', 'a'), ('a', 'A'), ('a', 'A'), ('a', 'a'), ('a', 'A'), ('a', 'a'), ('A', 'a'), ('A', 'a'), ('a', 'a'), ('a', 'A'), ('a', 'a'), ('A', 'a'), ('a', 'A'), ('a', 'A'), ('a', 'a'), ('A', 'a'), ('a', 'a'), ('A', 'a'), ('a', 'A'), ('a', 'A'), ('A', 'A'), ('A', 'a'), ('a', 'A'), ('A', 'a'), ('A', 'A'), ('a', 'a'), ('a', 'A'), ('A', 'a'), ('a', 'a'), ('A', 'a'), ('a', 'A'), ('A', 'a'), ('A', 'A'), ('a', 'a'), ('a', 'a'), ('A', 'A'), ('A', 'a'), ('a', 'A'), ('a', 'a'), ('a', 'a'), ('a', 'A'), ('a', 'A'), ('a', 'A'), ('A', 'a'), ('A', 'A'), ('A', 'A'), ('a', 'a'), ('a', 'A'), ('a', 'a'), ('A', 'a'), ('a', 'A'), ('A', 'a'), ('a', 'A'), ('A', 'A'), ('A', 'a'), ('A', 'a'), ('a', 'a'), ('A', 'A'), ('a', 'A'), ('A', 'A'), ('a', 'a'), ('a', 'A'), ('A', 'a'), ('a', 'a'), ('A', 'A'), ('A', 'a'), ('A', 'a'), ('A', 'a'), ('a', 'A'), ('A', 'A'), ('A', 'A'), ('A', 'A'), ('A', 'a'), ('a', 'a'), ('A', 'a'), ('a', 'A'), ('a', 'A'), ('a', 'A'), ('A', 'a'), ('a', 'A'), ('A', 'a'), ('a', 'A'), ('A', 'a'), ('A', 'A'), ('a', 'a'), ('A', 'A'), ('A', 'A'), ('a', 'A'), ('a', 'a'), ('A', 'A'), ('a', 'A'), ('A', 'A'), ('A', 'a'), ('a', 'A'), ('a', 'a'), ('A', 'a'), ('A', 'A'), ('A', 'a'), ('a', 'A'), ('a', 'A'), ('A', 'A'), ('a', 'A'), ('a', 'A'), ('a', 'a'), ('A', 'A'), ('a', 'A'), ('a', 'A'), ('A', 'a'), ('a', 'A'), ('A', 'a'), ('A', 'a'), ('a', 'A'), ('A', 'a'), ('a', 'a'), ('A', 'a'), ('a', 'a'), ('a', 'a'), ('a', 'a'), ('A', 'A'), ('a', 'A'), ('A', 'a'), ('A', 'a'), ('a', 'A'), ('a', 'a'), ('a', 'A'), ('A', 'A'), ('A', 'a'), ('a', 'a'), ('A', 'A'), ('a', 'A'), ('A', 'a'), ('A', 'A'), ('a', 'A'), ('a', 'a'), ('A', 'a'), ('a', 'A'), ('a', 'a'), ('A', 'a'), ('a', 'a'), ('a', 'a'), ('A', 'a'), ('A', 'a'), ('a', 'A'), ('a', 'a'), ('A', 'a'), ('A', 'A'), ('a', 'A'), ('a', 'A'), ('A', 'A'), ('a', 'a'), ('a', 'A'), ('A', 'A'), ('A', 'a'), ('A', 'a'), ('a', 'a'), ('a', 'A'), ('A', 'a'), ('a', 'A'), ('A', 'A'), ('a', 'a'), ('a', 'a'), ('A', 'A'), ('a', 'a'), ('A', 'a'), ('a', 'a'), ('a', 'a'), ('a', 'A'), ('A', 'a'), ('A', 'A'), ('a', 'A'), ('A', 'A'), ('A', 'a'), ('a', 'a'), ('A', 'A'), ('A', 'a'), ('A', 'a'), ('a', 'A'), ('a', 'a'), ('a', 'a'), ('A', 'a'), ('A', 'a'), ('A', 'a'), ('A', 'A'), ('a', 'A'), ('a', 'A'), ('A', 'A'), ('A', 'a'), ('a', 'a')]\n",
      "{'AA': 116, 'aa': 122, 'Aa': 131, 'aA': 131}\n"
     ]
    },
    {
     "data": {
      "text/plain": [
       "500"
      ]
     },
     "execution_count": 27,
     "metadata": {},
     "output_type": "execute_result"
    }
   ],
   "source": [
    "Generacion500 = poblacionmendeliana.build_population(500,0.5) #genero 500 individuos con una probabilidad de 50% \n",
    "print(Generacion500) # ver generacion 500\n",
    "Conteo = poblacionmendeliana.frequency_count(Generacion500) # contar el numero de alelos en generacion 500\n",
    "print(Conteo) #imprimo este conteo\n",
    "len(Generacion500) # para saber el numero de individuos que tengo en la generacion"
   ]
  }
 ],
 "metadata": {
  "kernelspec": {
   "display_name": "Python 3 (ipykernel)",
   "language": "python",
   "name": "python3"
  },
  "language_info": {
   "codemirror_mode": {
    "name": "ipython",
    "version": 3
   },
   "file_extension": ".py",
   "mimetype": "text/x-python",
   "name": "python",
   "nbconvert_exporter": "python",
   "pygments_lexer": "ipython3",
   "version": "3.9.12"
  }
 },
 "nbformat": 4,
 "nbformat_minor": 5
}
